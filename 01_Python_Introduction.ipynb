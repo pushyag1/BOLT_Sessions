{
 "cells": [
  {
   "cell_type": "markdown",
   "metadata": {
    "colab_type": "text",
    "id": "s79ay_fnRAmr"
   },
   "source": [
    "Welcome to BOLT Sessions! By choosing \"Markdown\" as the cell type from the top list, you can put some explanations here\n",
    "(To edit, double click) (To run, shift+enter)"
   ]
  },
  {
   "cell_type": "code",
   "execution_count": 1,
   "metadata": {},
   "outputs": [],
   "source": [
    "links"
   ]
  },
  {
   "cell_type": "markdown",
   "metadata": {},
   "source": [
    "[Google](https://www.google.com/)"
   ]
  },
  {
   "cell_type": "code",
   "execution_count": null,
   "metadata": {},
   "outputs": [],
   "source": []
  },
  {
   "cell_type": "markdown",
   "metadata": {},
   "source": [
    "![BOLT](\"imgex.png\")"
   ]
  },
  {
   "cell_type": "markdown",
   "metadata": {
    "colab_type": "text",
    "id": "xrGr5z3kRAms"
   },
   "source": [
    "## Commenting"
   ]
  },
  {
   "cell_type": "code",
   "execution_count": null,
   "metadata": {
    "colab": {},
    "colab_type": "code",
    "id": "ddFPCHCDRAmt"
   },
   "outputs": [],
   "source": [
    "# In a cell, when you put the \"#\" character, the rest is accepted as comment\n",
    "# This is a comment\n",
    "# This is another comment. "
   ]
  },
  {
   "cell_type": "code",
   "execution_count": null,
   "metadata": {
    "colab": {},
    "colab_type": "code",
    "id": "vZKgDJNPRAmw"
   },
   "outputs": [],
   "source": [
    "# If you are going to write a long comment, you don't have to put # in the beginning of each line\n",
    "# you can use the following option, which is also very useful if you are going to copy and paste\n",
    "# some long text\n",
    "'''\n",
    "This text is in a comment\n",
    "So is this text\n",
    "Text text text text\n",
    "Comment comment comment\n",
    "'''"
   ]
  },
  {
   "cell_type": "markdown",
   "metadata": {
    "colab_type": "text",
    "id": "lV3gqq3iRAm1"
   },
   "source": [
    "## Python and Variables"
   ]
  },
  {
   "cell_type": "markdown",
   "metadata": {
    "colab_type": "text",
    "id": "3ZfWGcqmRAm1"
   },
   "source": [
    "Unlike other programming languages, Python has no command for declaring a variable.\n",
    "\n",
    "A variable is created the moment you first assign a value to it."
   ]
  },
  {
   "cell_type": "code",
   "execution_count": null,
   "metadata": {
    "colab": {},
    "colab_type": "code",
    "id": "oa74e-xBRAm2"
   },
   "outputs": [],
   "source": [
    "x = 1\n",
    "y = 3.4\n",
    "z = 'BOLT'\n",
    "show = \"Game of Thrones\"\n",
    "Answer1 = True\n",
    "Answer2 = False"
   ]
  },
  {
   "cell_type": "code",
   "execution_count": null,
   "metadata": {
    "colab": {},
    "colab_type": "code",
    "id": "sq3KpDAsRAm4"
   },
   "outputs": [],
   "source": [
    "print(x)"
   ]
  },
  {
   "cell_type": "code",
   "execution_count": null,
   "metadata": {
    "colab": {},
    "colab_type": "code",
    "id": "VQVCl4olRAm7"
   },
   "outputs": [],
   "source": [
    "print(y)"
   ]
  },
  {
   "cell_type": "code",
   "execution_count": null,
   "metadata": {
    "colab": {},
    "colab_type": "code",
    "id": "MXKtrIviRAm9"
   },
   "outputs": [],
   "source": [
    "print(z)"
   ]
  },
  {
   "cell_type": "code",
   "execution_count": null,
   "metadata": {
    "colab": {},
    "colab_type": "code",
    "id": "ZyTArv-ARAm_"
   },
   "outputs": [],
   "source": [
    "print(show)"
   ]
  },
  {
   "cell_type": "code",
   "execution_count": null,
   "metadata": {
    "colab": {},
    "colab_type": "code",
    "id": "OdJ3NbMMRAnB"
   },
   "outputs": [],
   "source": [
    "print(Answer1)"
   ]
  },
  {
   "cell_type": "code",
   "execution_count": null,
   "metadata": {
    "colab": {},
    "colab_type": "code",
    "id": "s37KlWF3RAnE"
   },
   "outputs": [],
   "source": [
    "print(Answer2)"
   ]
  },
  {
   "cell_type": "markdown",
   "metadata": {
    "colab_type": "text",
    "id": "kSwQ0-fiRAnH"
   },
   "source": [
    "Note that \n",
    "x is an integer,\n",
    "y is a float,\n",
    "z and show are strings, and \n",
    "Answer1 and Answer2 are Booleans."
   ]
  },
  {
   "cell_type": "code",
   "execution_count": null,
   "metadata": {
    "colab": {},
    "colab_type": "code",
    "id": "ifYdTQ_TRAnI"
   },
   "outputs": [],
   "source": [
    "# Variables do not need to be declared with any particular type and can even change type after they have been set.\n",
    "x = 1\n",
    "x = 3.4125415\n",
    "x = \"Data Science\"\n",
    "print(x)"
   ]
  },
  {
   "cell_type": "code",
   "execution_count": null,
   "metadata": {
    "colab": {},
    "colab_type": "code",
    "id": "btHy4XhURAnL"
   },
   "outputs": [],
   "source": [
    "# you can learn variables types with the type() module\n",
    "type(x)"
   ]
  },
  {
   "cell_type": "code",
   "execution_count": null,
   "metadata": {
    "colab": {},
    "colab_type": "code",
    "id": "msZsE2SwRAnN"
   },
   "outputs": [],
   "source": [
    "# A variable can have a short name (like x and y) or a more descriptive name (age, carname, total_volume). \n",
    "# Rules for Python variables:\n",
    "# [1] A variable name must start with a letter or the underscore character;\n",
    "# [2] A variable name cannot start with a number;\n",
    "# [3] A variable name can only contain alpha-numeric characters and underscores (A-z, 0-9, and _ ); and\n",
    "# [4] Variable names are case-sensitive (age, Age and AGE are three different variables)"
   ]
  },
  {
   "cell_type": "code",
   "execution_count": null,
   "metadata": {
    "colab": {},
    "colab_type": "code",
    "id": "a5XBfKJgRAnS"
   },
   "outputs": [],
   "source": [
    "# you can define multiple variables at once\n",
    "y, z, asd = 100, 200.124, \"Maryland\"\n",
    "print(y)\n",
    "print(z)\n",
    "print(asd)"
   ]
  },
  {
   "cell_type": "code",
   "execution_count": null,
   "metadata": {
    "colab": {},
    "colab_type": "code",
    "id": "sKFb1Qj1RAnU"
   },
   "outputs": [],
   "source": [
    "var1 = 'This is a String'"
   ]
  },
  {
   "cell_type": "code",
   "execution_count": null,
   "metadata": {
    "colab": {},
    "colab_type": "code",
    "id": "O4jSuxO-RAnW"
   },
   "outputs": [],
   "source": [
    "var2 = \"This is also a String\"  # Did you see the difference between this command and previouse one?"
   ]
  },
  {
   "cell_type": "code",
   "execution_count": null,
   "metadata": {
    "colab": {},
    "colab_type": "code",
    "id": "SRmXeADBRAnY"
   },
   "outputs": [],
   "source": [
    "# what happens if we add them?\n",
    "var1+var2"
   ]
  },
  {
   "cell_type": "code",
   "execution_count": null,
   "metadata": {
    "colab": {},
    "colab_type": "code",
    "id": "GyLNaTdYRAna"
   },
   "outputs": [],
   "source": [
    "# what happens if we try this:\n",
    "print(var1,'.',var2)"
   ]
  },
  {
   "cell_type": "code",
   "execution_count": null,
   "metadata": {
    "colab": {},
    "colab_type": "code",
    "id": "CeQI5RgYRAnc"
   },
   "outputs": [],
   "source": [
    "var1, var2 = 1, 2"
   ]
  },
  {
   "cell_type": "code",
   "execution_count": null,
   "metadata": {
    "colab": {},
    "colab_type": "code",
    "id": "_ndEJ52mRAne"
   },
   "outputs": [],
   "source": [
    "var1 / var2   # Regular division"
   ]
  },
  {
   "cell_type": "code",
   "execution_count": null,
   "metadata": {
    "colab": {},
    "colab_type": "code",
    "id": "wpzetX6ZRAnh"
   },
   "outputs": [],
   "source": [
    "var1 // var2  # Integer division – drop fraction"
   ]
  },
  {
   "cell_type": "code",
   "execution_count": null,
   "metadata": {
    "colab": {},
    "colab_type": "code",
    "id": "LeSKU9W0RAnk"
   },
   "outputs": [],
   "source": [
    "y = 100\n",
    "x=y**2 # exponent \n",
    "print(x)"
   ]
  },
  {
   "cell_type": "code",
   "execution_count": null,
   "metadata": {
    "colab": {},
    "colab_type": "code",
    "id": "GaAKxQ39RAnm"
   },
   "outputs": [],
   "source": [
    "y = 100.0\n",
    "x=y**2 # exponent \n",
    "print(x)"
   ]
  },
  {
   "cell_type": "code",
   "execution_count": null,
   "metadata": {
    "colab": {},
    "colab_type": "code",
    "id": "aAnyuycNRAnp"
   },
   "outputs": [],
   "source": [
    "# Do you see the difference between the previous two lines?"
   ]
  },
  {
   "cell_type": "code",
   "execution_count": null,
   "metadata": {
    "colab": {},
    "colab_type": "code",
    "id": "M7YkeuBuRAnr"
   },
   "outputs": [],
   "source": [
    "# int and float results in float\n",
    "1/2.0   "
   ]
  },
  {
   "cell_type": "code",
   "execution_count": null,
   "metadata": {
    "colab": {},
    "colab_type": "code",
    "id": "sOV6lBEhRAnt"
   },
   "outputs": [],
   "source": [
    "#  Python can handle complex numbers as well\n",
    "w = 3+4j\n",
    "print(type(w))"
   ]
  },
  {
   "cell_type": "code",
   "execution_count": null,
   "metadata": {
    "colab": {},
    "colab_type": "code",
    "id": "QBcBQtYRRAnv"
   },
   "outputs": [],
   "source": [
    "# Float can also be scientific numbers with an \"e\" to indicate the power of 10.\n",
    "x = 1.1e3\n",
    "print(x)"
   ]
  },
  {
   "cell_type": "markdown",
   "metadata": {
    "colab_type": "text",
    "id": "chyz6DoyRAnx"
   },
   "source": [
    "## CASTING"
   ]
  },
  {
   "cell_type": "code",
   "execution_count": null,
   "metadata": {
    "colab": {},
    "colab_type": "code",
    "id": "1kDvExabRAnx"
   },
   "outputs": [],
   "source": [
    "# There may be times when you want to specify a type on to a variable.\n",
    "# This can be done with casting"
   ]
  },
  {
   "cell_type": "code",
   "execution_count": null,
   "metadata": {
    "colab": {},
    "colab_type": "code",
    "id": "zWTC5JKWRAnz"
   },
   "outputs": [],
   "source": [
    "# int() constructs an integer number from an integer literal, \n",
    "# a float literal (by rounding down to the previous whole number), \n",
    "# or a string literal (providing the string represents a whole number)"
   ]
  },
  {
   "cell_type": "code",
   "execution_count": null,
   "metadata": {
    "colab": {},
    "colab_type": "code",
    "id": "t9Zpn7J1RAn1"
   },
   "outputs": [],
   "source": [
    "x = int(1)   \n",
    "y = int(2.8) \n",
    "z = int(\"3\") \n",
    "print(x,y,z)"
   ]
  },
  {
   "cell_type": "code",
   "execution_count": null,
   "metadata": {
    "colab": {},
    "colab_type": "code",
    "id": "Aeg81gOYRAn3"
   },
   "outputs": [],
   "source": [
    "# float() constructs a float number from an integer literal, \n",
    "# a float literal or a string literal (providing the string represents a float or an integer)"
   ]
  },
  {
   "cell_type": "code",
   "execution_count": null,
   "metadata": {
    "colab": {},
    "colab_type": "code",
    "id": "cTPJn6bsRAn7"
   },
   "outputs": [],
   "source": [
    "x = float(1)    \n",
    "y = float(2.8)   \n",
    "z = float(\"3\")   \n",
    "w = float(\"4.2\")\n",
    "print(x,y,z,w)"
   ]
  },
  {
   "cell_type": "code",
   "execution_count": null,
   "metadata": {
    "colab": {},
    "colab_type": "code",
    "id": "V1ni4vecRAn9"
   },
   "outputs": [],
   "source": [
    "# str() constructs a string from a wide variety of data types, \n",
    "# including strings, integer literals and float literals"
   ]
  },
  {
   "cell_type": "code",
   "execution_count": null,
   "metadata": {
    "colab": {},
    "colab_type": "code",
    "id": "QXQCDtnARAn-"
   },
   "outputs": [],
   "source": [
    "x = str(\"s1\") \n",
    "y = str(2)    \n",
    "z = str(3.0)\n",
    "w = str('Python Rocks')\n",
    "print(x,y,z,w)"
   ]
  },
  {
   "cell_type": "markdown",
   "metadata": {
    "colab_type": "text",
    "id": "ojI9WYQoRAoA"
   },
   "source": [
    "### More About Strings"
   ]
  },
  {
   "cell_type": "code",
   "execution_count": null,
   "metadata": {
    "colab": {},
    "colab_type": "code",
    "id": "alyLWsa6RAoA"
   },
   "outputs": [],
   "source": [
    "# Let's look at \"w\" more carefully, \n",
    "len(w)"
   ]
  },
  {
   "cell_type": "code",
   "execution_count": null,
   "metadata": {
    "colab": {},
    "colab_type": "code",
    "id": "yYyKEOXhRAoC"
   },
   "outputs": [],
   "source": [
    "print(w[0])"
   ]
  },
  {
   "cell_type": "code",
   "execution_count": 2,
   "metadata": {
    "colab": {},
    "colab_type": "code",
    "id": "RG7uOZhWRAoE"
   },
   "outputs": [],
   "source": [
    "print(w[1])"
   ]
  },
  {
   "cell_type": "code",
   "execution_count": null,
   "metadata": {
    "colab": {},
    "colab_type": "code",
    "id": "1wHBCFU9RAoG"
   },
   "outputs": [],
   "source": [
    "print(w[6])"
   ]
  },
  {
   "cell_type": "code",
   "execution_count": null,
   "metadata": {
    "colab": {},
    "colab_type": "code",
    "id": "ib7LgD3fRAoI"
   },
   "outputs": [],
   "source": [
    "# There are so many great string functions in Python, which will be so useful for EDA\n",
    "# for example: strip(), removes any whitespace from the beginning or the end:\n",
    "Name1 = \"Albert Einstein\"\n",
    "Name2 = \" Albert Einstein\"\n",
    "Name3 = \"  Albert Einstein   \"\n",
    "print(Name1.strip())\n",
    "print(Name2.strip())\n",
    "print(Name3.strip())"
   ]
  },
  {
   "cell_type": "code",
   "execution_count": null,
   "metadata": {
    "colab": {},
    "colab_type": "code",
    "id": "C0POkxfBRAoK"
   },
   "outputs": [],
   "source": [
    "# The lower() method returns the string in lower case:\n",
    "Name1 = \"Albert Einstein\"\n",
    "print(Name1.lower())"
   ]
  },
  {
   "cell_type": "code",
   "execution_count": null,
   "metadata": {
    "colab": {},
    "colab_type": "code",
    "id": "sT7ukq8kRAoM"
   },
   "outputs": [],
   "source": [
    "# The upper() method returns the string in upper case:\n",
    "Name1 = \"Albert Einstein\"\n",
    "print(Name1.upper())"
   ]
  },
  {
   "cell_type": "code",
   "execution_count": null,
   "metadata": {
    "colab": {},
    "colab_type": "code",
    "id": "6me_U2-aRAoQ"
   },
   "outputs": [],
   "source": [
    "# Another very useful method is replace()\n",
    "# The replace() method replaces a string with another string:\n",
    "prices = \"$100, $200, $87, $500\"\n",
    "print(prices.replace(\"$\", \"€\"))"
   ]
  },
  {
   "cell_type": "code",
   "execution_count": null,
   "metadata": {
    "colab": {},
    "colab_type": "code",
    "id": "YNDdHZ1BRAoT"
   },
   "outputs": [],
   "source": [
    "prices = \"$100, $200, $87, $500\"\n",
    "print(prices.replace(\"$\", \"\"))"
   ]
  },
  {
   "cell_type": "code",
   "execution_count": null,
   "metadata": {
    "colab": {},
    "colab_type": "code",
    "id": "3CJAsrzoRAoU"
   },
   "outputs": [],
   "source": [
    "#  Another super powerful method is split\n",
    "# split() method splits the string into substrings if it finds instances of the separator:\n",
    "prices = \"$100, $200, $87, $500\"\n",
    "print(prices.split(\",\"))"
   ]
  },
  {
   "cell_type": "code",
   "execution_count": null,
   "metadata": {
    "colab": {},
    "colab_type": "code",
    "id": "15r_x4vBRAoZ"
   },
   "outputs": [],
   "source": [
    "A_sentence = \"I will go shopping today\"\n",
    "print(A_sentence.split(\" \"))"
   ]
  },
  {
   "cell_type": "code",
   "execution_count": null,
   "metadata": {
    "colab": {},
    "colab_type": "code",
    "id": "3Rxz6HxFRAoa"
   },
   "outputs": [],
   "source": [
    "# If you try to combine a string and a number, Python will give you an error:\n",
    "# If you need to combine a string and a number, then you'll need to convert numbers into strings\n",
    "temperature = 74\n",
    "z = \"Baltimore\"\n",
    "print(z, 'is', str(temperature), \"degrees Fahrenheit today.\")"
   ]
  },
  {
   "cell_type": "markdown",
   "metadata": {
    "colab_type": "text",
    "id": "ePNLneykRAod"
   },
   "source": [
    "#### Command-line String Input"
   ]
  },
  {
   "cell_type": "code",
   "execution_count": null,
   "metadata": {
    "colab": {},
    "colab_type": "code",
    "id": "hsQtzQQgRAod"
   },
   "outputs": [],
   "source": [
    "# Python allows for command line input. That means we are able to ask the user for input.\n",
    "# What we need is the input() method\n",
    "print(\"Enter your name:\")\n",
    "x = input()\n",
    "print(\"Hello\", x)"
   ]
  },
  {
   "cell_type": "markdown",
   "metadata": {
    "colab_type": "text",
    "id": "vv_QG8EeRAog"
   },
   "source": [
    "## Python Operators"
   ]
  },
  {
   "cell_type": "markdown",
   "metadata": {
    "colab_type": "text",
    "id": "K7LGczQmRAoh"
   },
   "source": [
    "### Arithmetic Operators"
   ]
  },
  {
   "cell_type": "code",
   "execution_count": null,
   "metadata": {
    "colab": {},
    "colab_type": "code",
    "id": "y6R00HwRRAoi"
   },
   "outputs": [],
   "source": [
    "x = 12.0\n",
    "y = 2\n",
    "addition = x+y\n",
    "subtraction = x-y\n",
    "multiplication = x*y\n",
    "exponentitation = x**y\n",
    "division = 12.4/y\n",
    "floor_division = 12.4//y\n",
    "modulus = 10%3\n",
    "modulus2 = 10%3.0\n",
    "print(addition, subtraction, multiplication, exponentitation, division, floor_division, modulus, modulus2)"
   ]
  },
  {
   "cell_type": "code",
   "execution_count": null,
   "metadata": {
    "colab": {},
    "colab_type": "code",
    "id": "DvDIY066RAok"
   },
   "outputs": [],
   "source": [
    "#  Above, did you see the difference between division and floor division!"
   ]
  },
  {
   "cell_type": "code",
   "execution_count": null,
   "metadata": {
    "colab": {},
    "colab_type": "code",
    "id": "w5X3_8wJRAom"
   },
   "outputs": [],
   "source": [
    "# There are other types of operators like logical operators. We'll learn about them later."
   ]
  },
  {
   "cell_type": "code",
   "execution_count": null,
   "metadata": {},
   "outputs": [],
   "source": []
  }
 ],
 "metadata": {
  "colab": {
   "collapsed_sections": [
    "lV3gqq3iRAm1",
    "chyz6DoyRAnx",
    "ojI9WYQoRAoA",
    "ePNLneykRAod",
    "vv_QG8EeRAog",
    "K7LGczQmRAoh"
   ],
   "name": "01_Python_Introduction.ipynb",
   "provenance": [],
   "version": "0.3.2"
  },
  "kernelspec": {
   "display_name": "Python 3",
   "language": "python",
   "name": "python3"
  },
  "language_info": {
   "codemirror_mode": {
    "name": "ipython",
    "version": 3
   },
   "file_extension": ".py",
   "mimetype": "text/x-python",
   "name": "python",
   "nbconvert_exporter": "python",
   "pygments_lexer": "ipython3",
   "version": "3.7.7"
  }
 },
 "nbformat": 4,
 "nbformat_minor": 1
}
